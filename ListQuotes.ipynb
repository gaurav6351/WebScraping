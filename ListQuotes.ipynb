{
 "cells": [
  {
   "cell_type": "code",
   "execution_count": 1,
   "metadata": {
    "collapsed": true
   },
   "outputs": [],
   "source": [
    "import requests\n",
    "from bs4 import BeautifulSoup\n",
    "import csv\n"
   ]
  },
  {
   "cell_type": "code",
   "execution_count": 32,
   "metadata": {
    "collapsed": false
   },
   "outputs": [
    {
     "name": "stdout",
     "output_type": "stream",
     "text": [
      "[{'url': u'/inspirational-quotes/6240-motivation-is-when-your-dreams-put-on-work', 'theme': u'MOTIVATION', 'lines': u'Motivation is when your dreams put on work clothes.', 'author': u'Benjamin Franklin'}, {'url': u'/inspirational-quotes/4218-there-is-no-chance-no-destiny-no-fate-that', 'theme': u'DEDICATION', 'lines': u'There is no chance, no destiny, no fate, that can hinder or control the firm resolve of a determined soul.', 'author': u'Ella Wheeler Wilcox'}, {'url': u'/inspirational-quotes/4076-there-are-no-shortcuts-to-any-place-worth-going', 'theme': u'DEDICATION', 'lines': u'There are no shortcuts to any place worth going.', 'author': u'Beverly Sills'}, {'url': u'/inspirational-quotes/6440-the-person-who-makes-a-success-of-living-is-the', 'theme': u'DEDICATION', 'lines': u'The person who makes a success of living is the one who sees his goal steadily and aims for it unswervingly. That is dedication. ', 'author': u'Cecil B. DeMille'}, {'url': u'/inspirational-quotes/5886-he-who-would-learn-to-fly-one-day-must-first', 'theme': u'DEDICATION', 'lines': u'He who would learn to fly one day must first learn to stand and walk and run and climb and dance; one cannot fly into flying.', 'author': u'Friedrich Nietzsche'}, {'url': u'/inspirational-quotes/3763-dreams-and-dedication-are-a-powerful-combination', 'theme': u'DEDICATION', 'lines': u'Dreams and dedication are a powerful combination.', 'author': u'William Longgood'}, {'url': u'/inspirational-quotes/5513-trust-yourself-create-the-kind-of-self-that', 'theme': u'CONFIDENCE', 'lines': u'Trust yourself. Create the kind of self that you will be happy to live with all your life.', 'author': u'Golda  Meir'}, {'url': u'/inspirational-quotes/7587-each-time-we-face-our-fear-we-gain-strength', 'theme': u'CONFIDENCE', 'lines': u'Each time we face our fear, we gain strength, courage and confidence in the doing.', 'author': u'Theodore Roosevelt'}, {'url': u'/inspirational-quotes/3506-be-who-you-are-and-say-what-you-feel-because', 'theme': u'CONFIDENCE', 'lines': u\"Be who you are and say what you feel, because in the end those who matter don't mind and those who mind don't matter.\", 'author': u'Theodor Seuss Geisel'}, {'url': u'/inspirational-quotes/6508-confidence-comes-not-from-always-being-right', 'theme': u'CONFIDENCE', 'lines': u'Confidence comes not from always being right, but from not fearing to be wrong.', 'author': u'Peter McIntyre'}, {'url': u'/inspirational-quotes/6990-every-small-positive-change-we-make-in', 'theme': u'CONFIDENCE', 'lines': u'Every small positive change we make in ourselves repays us in confidence in the future.', 'author': u'Alice Walker'}, {'url': u'/inspirational-quotes/4400-you-may-have-to-fight-a-battle-more-than-once', 'theme': u'COMMITMENT', 'lines': u'You may have to fight a battle more than once to win it.', 'author': u'Margaret Thatcher'}, {'url': u'/inspirational-quotes/3124-great-changes-may-not-happen-right-away-but', 'theme': u'COMMITMENT', 'lines': u'Great changes may not happen right away, but with effort even the difficult may become easy.', 'author': u'Bill Blackman'}, {'url': u'/inspirational-quotes/3971-stay-committed-to-your-decisions-but-stay', 'theme': u'COMMITMENT', 'lines': u'Stay committed to your decisions, but stay flexible in your approach.', 'author': u'Tom Robbins'}, {'url': u'/inspirational-quotes/4245-commitment-unlocks-the-doors-of-imagination', 'theme': u'COMMITMENT', 'lines': u'Commitment unlocks the doors of imagination, allows vision, and gives us the right stuff to turn our dream into reality.', 'author': u'James Womack'}]\n"
     ]
    }
   ],
   "source": [
    "URL = \"http://www.values.com/inspirational-quotes\"\n",
    "r=requests.get(URL)\n",
    "soup = BeautifulSoup(r.content)\n",
    "quotes = []\n",
    "table = soup.find('div',attrs={\"id\":\"container\"})\n",
    "for row in table.findAll('div', attrs = {'class':'quote'}):\n",
    "    quote={}\n",
    "    quote['theme'] = row.h5.text\n",
    "    quote['url'] = row.a['href']\n",
    "    quote['lines'] = row.h6.text\n",
    "    quote['author'] = row.p.text\n",
    "    quotes.append(quote)\n",
    "print quotes\n",
    "    \n",
    "filename = 'inspirational_quotes.csv'\n",
    "with open(filename,\"wb\") as f:\n",
    "    w=csv.DictWriter(f,['theme','url','lines','author'])\n",
    "    w.writeheader()\n",
    "    for quote in quotes:\n",
    "        w.writerow(quote)\n",
    "    \n",
    "    \n",
    "    \n",
    "\n",
    "\n"
   ]
  }
 ],
 "metadata": {
  "kernelspec": {
   "display_name": "Python 2",
   "language": "python",
   "name": "python2"
  },
  "language_info": {
   "codemirror_mode": {
    "name": "ipython",
    "version": 2
   },
   "file_extension": ".py",
   "mimetype": "text/x-python",
   "name": "python",
   "nbconvert_exporter": "python",
   "pygments_lexer": "ipython2",
   "version": "2.7.12"
  }
 },
 "nbformat": 4,
 "nbformat_minor": 2
}
