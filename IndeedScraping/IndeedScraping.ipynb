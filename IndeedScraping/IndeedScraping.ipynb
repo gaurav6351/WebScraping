{
 "cells": [
  {
   "cell_type": "code",
   "execution_count": 22,
   "metadata": {
    "collapsed": false
   },
   "outputs": [],
   "source": [
    "from bs4 import BeautifulSoup as Soup\n",
    "import urllib, requests, re, pandas as pd\n",
    "\n",
    "base_url = 'http://www.indeed.com/jobs?q=data+scientist&jt=fulltime&sort='\n",
    "sort_by = 'date'          \n",
    "start_from = '&start='    \n",
    "\n",
    "pd.set_option('max_colwidth',500)    \n",
    "df = pd.DataFrame()  \n",
    "for page in range(1,4): \n",
    "    page = (page-1) * 10  \n",
    "    url = \"%s%s%s%d\" % (base_url, sort_by, start_from, page)  \n",
    "    target = Soup(urllib.urlopen(url), \"lxml\") \n",
    "   \n",
    "\n",
    "    targetElements = target.findAll('div', attrs={'class' :\" row result\"}) \n",
    "\n",
    "    for elem in targetElements: \n",
    "        comp_name = elem.find('span', attrs={'itemprop':'name'}).getText().strip()\n",
    "        job_title = elem.find('a', attrs={'class':'turnstileLink'}).attrs['title']\n",
    "        home_url = \"http://www.indeed.com\"\n",
    "        job_link = \"%s%s\" % (home_url,elem.find('a').get('href'))\n",
    "        job_addr = elem.find('span', attrs={'itemprop':'addressLocality'}).getText()\n",
    "        job_posted = elem.find('span', attrs={'class': 'date'}).getText()\n",
    "\n",
    "        df = df.append({'comp_name': comp_name, 'job_title': job_title, \n",
    "                        'job_link': job_link, 'job_posted': job_posted,\n",
    "                        'job_location': job_addr\n",
    "                        }, ignore_index=True)\n",
    "\n",
    "\n",
    "df.to_csv('indeed_companies.csv', encoding='utf-8')\n"
   ]
  }
 ],
 "metadata": {
  "kernelspec": {
   "display_name": "Python 2",
   "language": "python",
   "name": "python2"
  },
  "language_info": {
   "codemirror_mode": {
    "name": "ipython",
    "version": 2
   },
   "file_extension": ".py",
   "mimetype": "text/x-python",
   "name": "python",
   "nbconvert_exporter": "python",
   "pygments_lexer": "ipython2",
   "version": "2.7.12"
  }
 },
 "nbformat": 4,
 "nbformat_minor": 2
}
